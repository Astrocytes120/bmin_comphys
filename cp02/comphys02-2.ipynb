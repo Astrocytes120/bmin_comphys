{
 "cells": [
  {
   "cell_type": "markdown",
   "metadata": {},
   "source": [
    "# 함수(function)"
   ]
  },
  {
   "cell_type": "code",
   "execution_count": 35,
   "metadata": {},
   "outputs": [
    {
     "data": {
      "text/plain": [
       "362880.0"
      ]
     },
     "execution_count": 35,
     "metadata": {},
     "output_type": "execute_result"
    }
   ],
   "source": [
    "from math import *\n",
    "import numpy as np\n",
    "\n",
    "f = 1.0\n",
    "for i in range(1,10):\n",
    "    f *= i\n",
    "f"
   ]
  },
  {
   "cell_type": "code",
   "execution_count": 36,
   "metadata": {},
   "outputs": [
    {
     "data": {
      "text/plain": [
       "3628800.0"
      ]
     },
     "execution_count": 36,
     "metadata": {},
     "output_type": "execute_result"
    }
   ],
   "source": [
    "def facto(x):\n",
    "    f = 1.0\n",
    "    for i in range(1,x+1):\n",
    "        f *= i\n",
    "    return f\n",
    "facto(10)"
   ]
  },
  {
   "cell_type": "code",
   "execution_count": 37,
   "metadata": {},
   "outputs": [
    {
     "data": {
      "text/plain": [
       "3628800"
      ]
     },
     "execution_count": 37,
     "metadata": {},
     "output_type": "execute_result"
    }
   ],
   "source": [
    "# built-in 함수를 확인할 것\n",
    "from math import *\n",
    "factorial(10)"
   ]
  },
  {
   "cell_type": "markdown",
   "metadata": {},
   "source": [
    "## 예제 1 : 자유낙하 운동 거리 계산"
   ]
  },
  {
   "cell_type": "code",
   "execution_count": 38,
   "metadata": {},
   "outputs": [
    {
     "data": {
      "text/plain": [
       "(19.6, 78.4)"
      ]
     },
     "execution_count": 38,
     "metadata": {},
     "output_type": "execute_result"
    }
   ],
   "source": [
    "# 시간 t동안 자유낙하하는 거리 계산 \n",
    "def falling(g,t):\n",
    "    g=9.8\n",
    "    x=0.5*g*t**2\n",
    "    return x\n",
    "\n",
    "falling(9.8,2),falling(9.8,4)"
   ]
  },
  {
   "cell_type": "code",
   "execution_count": 39,
   "metadata": {},
   "outputs": [
    {
     "data": {
      "text/plain": [
       "(10.399999999999999, 0)"
      ]
     },
     "execution_count": 39,
     "metadata": {},
     "output_type": "execute_result"
    }
   ],
   "source": [
    "# 높이 h에서 떨어지는 물체의 시간 t에서의 수직 위치\n",
    "def fall_y(g,h,t):\n",
    "    g=9.8\n",
    "    x=h-0.5*g*t**2\n",
    "    if(x<0):\n",
    "        x=0\n",
    "    return x\n",
    "\n",
    "fall_y(9.8,30,2), fall_y(9.8,30,3)"
   ]
  },
  {
   "cell_type": "markdown",
   "metadata": {},
   "source": [
    "## 예제 2 : 포물선 운동\n",
    "* 초기속도 (v_x,v_y)\n",
    "* 가속도 (0,-g)"
   ]
  },
  {
   "cell_type": "code",
   "execution_count": 49,
   "metadata": {},
   "outputs": [
    {
     "data": {
      "text/plain": [
       "([2, -15.600000000000001],\n",
       " [2, -15.600000000000001],\n",
       " [2.0, -15.600000000000001])"
      ]
     },
     "execution_count": 49,
     "metadata": {},
     "output_type": "execute_result"
    }
   ],
   "source": [
    "g=9.8\n",
    "def para(v,t):\n",
    "    x=[v[0]*t,v[1]*t-0.5*g*t**2]\n",
    "    return x\n",
    "\n",
    "v0=[1,2]\n",
    "para([1,2],2), para(v0,2), para(np.array([1,2],float),2)"
   ]
  },
  {
   "cell_type": "code",
   "execution_count": 70,
   "metadata": {},
   "outputs": [
    {
     "name": "stdout",
     "output_type": "stream",
     "text": [
      "0.0 [1.0, -4.9]\n",
      "18.0 [0.9510565162951535, -4.590983005625053]\n",
      "36.0 [0.8090169943749475, -4.312214747707527]\n",
      "54.0 [0.5877852522924732, -4.090983005625053]\n",
      "72.0 [0.30901699437494745, -3.9489434837048467]\n",
      "90.0 [6.123233995736766e-17, -3.9000000000000004]\n"
     ]
    }
   ],
   "source": [
    "v0=1.0 \n",
    "for theta in np.arange(0,pi/2+pi/10,pi/10):\n",
    "    v=[v0*cos(theta),v0*sin(theta)]\n",
    "    print(degrees(theta),para(v,1))\n",
    "# 다음의 코드를 해석하시오."
   ]
  },
  {
   "cell_type": "markdown",
   "metadata": {},
   "source": [
    "## 과제 1 : 피보나치 수"
   ]
  },
  {
   "cell_type": "markdown",
   "metadata": {},
   "source": [
    "피보나치 수(Fibonacci numbers)는 처음 두 개의 항이 1이며 그 뒤의 모든 항은 앞의 두 개의 항의 합으로 주어지는 수열로 1, 1, 2, 3, 5, 8, $\\cdots$이다. $n$번째 피보나치 수 $F_n$은 다음의 식으로 구할 수 있다.  \n",
    "$F_1=F_2=1$  \n",
    "$F_n=F_{n-1}+F_{n-2}$, ($n \\in \\{3,4,\\cdots \\} $)  \n",
    "n번째 피보나치 수를 구하고, 1번부터 n번째 피보나치 수를 배열 혹은 리스트로 저장하는 프로그램을 작성하여라."
   ]
  },
  {
   "cell_type": "markdown",
   "metadata": {},
   "source": [
    "## 과제 2 : 비스듬히 던지는 물체의 초기 발사각에 따른 최종 이동 거리 구하는 함수를 작성하여라.\n",
    "일반물리학 혹은 고전역학 교과서를 참조하면 이동거리($R$)와 각도($\\theta$)와의 관계는 다음으로 주어진다.   \n",
    "$R = \\frac{v_0^2}{g} \\sin 2\\theta.$"
   ]
  },
  {
   "cell_type": "markdown",
   "metadata": {},
   "source": [
    "## 과제 3 : 뤼드베리(Rydberg) 공식\n",
    "원소 스펙트럼의 파장을 구하는 공식으로 수소의 경우 다음처럼 주어진다.  \n",
    "$\\frac{1}{\\lambda} = R_{\\infty} \\left( \\frac{1}{m^2} - \\frac{1}{n^2} \\right)$ where $n, m \\in {\\mathbb Z}$ and $m<n$\n",
    "이며 뤼드베리 상수는 $R_{\\infty}\\approx 1.097 \\times 10^7 m^{-1}$과 같다.  \n",
    "뤼드베리 공식에 따라 수소원자의 가능한 파장을 구하여라. "
   ]
  },
  {
   "cell_type": "markdown",
   "metadata": {},
   "source": [
    "## 과제 4 : 이항 계수(binomial coefficient)\n",
    "이항계수는 다음처럼 주어진다. \n",
    "$\\binom{n}{k}= \\frac{n!}{k!(n-k)!}$  \n",
    "주어진 n, k에 대해 이항계수를 구하는 함수를  \n",
    "1) math.factorial() 함수를 이용하여  \n",
    "2) math함수를 이용하지 않는 두가지 방법으로 작성하여라.  \n",
    "구한 결과를 파이썬 빌트인 함수의 결과와 비교하여라.  \n"
   ]
  },
  {
   "cell_type": "code",
   "execution_count": 3,
   "metadata": {},
   "outputs": [
    {
     "data": {
      "text/plain": [
       "6.0"
      ]
     },
     "execution_count": 3,
     "metadata": {},
     "output_type": "execute_result"
    }
   ],
   "source": [
    "# 이항계수를 구하는 빌트인 함수는 다음과 같다. \n",
    "import scipy.special\n",
    "\n",
    "scipy.special.binom(4,2)"
   ]
  }
 ],
 "metadata": {
  "kernelspec": {
   "display_name": "Python 3",
   "language": "python",
   "name": "python3"
  },
  "language_info": {
   "codemirror_mode": {
    "name": "ipython",
    "version": 3
   },
   "file_extension": ".py",
   "mimetype": "text/x-python",
   "name": "python",
   "nbconvert_exporter": "python",
   "pygments_lexer": "ipython3",
   "version": "3.7.4"
  }
 },
 "nbformat": 4,
 "nbformat_minor": 2
}
