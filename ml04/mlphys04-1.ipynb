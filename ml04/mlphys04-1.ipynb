{
 "cells": [
  {
   "cell_type": "markdown",
   "metadata": {},
   "source": [
    "# Logistic Regression\n",
    "* Let us try binary classification with the below data"
   ]
  },
  {
   "cell_type": "code",
   "execution_count": 9,
   "metadata": {},
   "outputs": [],
   "source": [
    "exam=[90,86,72,80,57,68,64,75]\n",
    "grade=[1,1,1,1,0,0,0,0]"
   ]
  },
  {
   "cell_type": "code",
   "execution_count": 24,
   "metadata": {},
   "outputs": [
    {
     "data": {
      "text/plain": [
       "[<matplotlib.lines.Line2D at 0x7fa8b88e23d0>]"
      ]
     },
     "execution_count": 24,
     "metadata": {},
     "output_type": "execute_result"
    },
    {
     "data": {
      "image/png": "[encoded data removed]",
      "text/plain": [
       "<Figure size 432x288 with 1 Axes>"
      ]
     },
     "metadata": {
      "needs_background": "light"
     },
     "output_type": "display_data"
    }
   ],
   "source": [
    "import numpy as np\n",
    "import matplotlib.pyplot as plt\n",
    "plt.plot(exam,[i if i==1 else None for i in grade],'rs')\n",
    "plt.plot(exam,[i if i==0 else None for i in grade],'bo')"
   ]
  },
  {
   "cell_type": "markdown",
   "metadata": {},
   "source": [
    "### Sigmoid Function\n",
    "Let us fit the data with the sigmoid function:\n",
    "$$ f(x)= \\frac{1}{1+e^{-w x}}. $$"
   ]
  },
  {
   "cell_type": "code",
   "execution_count": 58,
   "metadata": {},
   "outputs": [
    {
     "data": {
      "text/plain": [
       "[<matplotlib.lines.Line2D at 0x7fa8a9b340d0>]"
      ]
     },
     "execution_count": 58,
     "metadata": {},
     "output_type": "execute_result"
    },
    {
     "data": {
      "image/png": "[encoded data removed]",
      "text/plain": [
       "<Figure size 432x288 with 1 Axes>"
      ]
     },
     "metadata": {
      "needs_background": "light"
     },
     "output_type": "display_data"
    }
   ],
   "source": [
    "x=np.linspace(50,100,50)\n",
    "def sig(x,w,b):\n",
    "    return 1.0/(1+np.exp(-w*x+b))\n",
    "plt.plot(x,sig(x,1,75),'k-')\n",
    "plt.plot(exam,[i if i==1 else None for i in grade],'rs')\n",
    "plt.plot(exam,[i if i==0 else None for i in grade],'bo')"
   ]
  },
  {
   "cell_type": "markdown",
   "metadata": {},
   "source": [
    "### How to find the best fitted line?\n",
    "#### Maximum Likelihood Estimation (MLE) + Gradient Descent Method (GD) "
   ]
  },
  {
   "cell_type": "markdown",
   "metadata": {},
   "source": [
    "개별 데이터들이 독립적이라고 가정하면 최대 가능도(maximum likelihood)는 다음처럼 주어진다.\n",
    "$$ L(w)= \\prod_{i} f_w(x_i)^{y_i} [1-f_w(x_i) ]^{1-y_i}, $$\n",
    "여기에서 $f$는 모델 예측값, $y$는 실제 레이블을 의미한다. 위의 식을 살펴보면 만약 $y_i=1$이면 $f_w$이고\n",
    "$y_i=0$이면 $(1-f_w)$로 주어지는 값임을 알 수 있다. 따라서 다음의 식을 최대화하는 $w$를 찾으면 \n",
    "좋은 fitting을 구할 수 있다. 위의 식을 그대로 최대화해도 되지만 계산의 편의를 위해 $-\\log$를 \n",
    "취해서 log likelihood를 최소화하는 과정을 통해 $w$를 찾아보자."
   ]
  },
  {
   "cell_type": "markdown",
   "metadata": {},
   "source": [
    "log likelihood 함수는 다음처럼 주어진다.\n",
    "$$\n",
    "-\\log L(w)= -\\sum_i [ y_i \\log f_w + (1-y) \\log (1-f_w) ].$$\n",
    "이 식을 cross entropy (CE) 혹은 log loss function 이라고 부른다. 이 함수가 최소가 되려면 미분값이 $0$이 되는 조건을 만족하면 해야 한다.\n",
    "$$\\begin{align}\n",
    "-\\frac{\\partial \\log L(w)}{\\partial w} &= -\\frac{\\partial }{\\partial w}  y_i \\log f_w + (1-y_i) \\log (1-f_w)  \\\\\n",
    "&= -\\frac{y_i }{f_w} \\frac{\\partial f_w}{\\partial w} + \\frac{1-y_i }{1-f_w} \\frac{\\partial f_w}{\\partial w} \\\\\n",
    "&= -\\frac{y_i }{f_w} f_w(1-f_w)x_i + \\frac{1-y_i }{1-f_w} f_w(1-f_w)x_i \\\\\n",
    "&= -\\frac{y_i }{f_w} f_w(1-f_w)x_i + \\frac{1-y_i }{1-f_w} f_w(1-f_w)x_i \\\\\n",
    "&= (f_w - y_i)x_i =0. \\end{align}$$\n"
   ]
  },
  {
   "cell_type": "markdown",
   "metadata": {},
   "source": [
    "아쉽게도 $w$를 해석적으로 구할 수 있는 방법은 없지만 위의 결과와 경사하강법(Gradient Descent method)를 활용하면 손쉽게 최소값을 찾을 수 있다. 즉 다음의 식을 따라 오차(cross entropy)를 줄이는 방향으로 $w$의 값을 바꾸면서 오차가 최소값까지 도달할 때까지 위의 계산을 반복한다. \n",
    "$$\\begin{align} w&=w- \\eta \\frac{\\partial }{\\partial w}[-\\log L(w)]\\\\\n",
    "&=w+\\eta \\sum_i (y_i - f_w )x_i \\end{align}$$"
   ]
  },
  {
   "cell_type": "markdown",
   "metadata": {},
   "source": [
    "### Scikit-learn LogisticRegression"
   ]
  },
  {
   "cell_type": "code",
   "execution_count": 79,
   "metadata": {},
   "outputs": [
    {
     "data": {
      "text/plain": [
       "LogisticRegression(C=1.0, class_weight=None, dual=False, fit_intercept=True,\n",
       "                   intercept_scaling=1, l1_ratio=None, max_iter=100,\n",
       "                   multi_class='warn', n_jobs=None, penalty='l2',\n",
       "                   random_state=None, solver='lbfgs', tol=0.0001, verbose=0,\n",
       "                   warm_start=False)"
      ]
     },
     "execution_count": 79,
     "metadata": {},
     "output_type": "execute_result"
    }
   ],
   "source": [
    "from sklearn.linear_model import LogisticRegression\n",
    "X=[[i] for i in exam]\n",
    "y=grade\n",
    "log_reg=LogisticRegression(solver='lbfgs')\n",
    "log_reg.fit(X,y)"
   ]
  },
  {
   "cell_type": "code",
   "execution_count": 80,
   "metadata": {},
   "outputs": [
    {
     "data": {
      "text/plain": [
       "(array([[0.32895009]]), array([-24.25957919]))"
      ]
     },
     "execution_count": 80,
     "metadata": {},
     "output_type": "execute_result"
    }
   ],
   "source": [
    "log_reg.coef_ , log_reg.intercept_"
   ]
  },
  {
   "cell_type": "code",
   "execution_count": 90,
   "metadata": {},
   "outputs": [
    {
     "data": {
      "text/plain": [
       "[<matplotlib.lines.Line2D at 0x7fa8d91dd290>]"
      ]
     },
     "execution_count": 90,
     "metadata": {},
     "output_type": "execute_result"
    },
    {
     "data": {
      "image/png": "[encoded data removed]",
      "text/plain": [
       "<Figure size 432x288 with 1 Axes>"
      ]
     },
     "metadata": {
      "needs_background": "light"
     },
     "output_type": "display_data"
    }
   ],
   "source": [
    "x=[[i] for i in np.linspace(50,100,50)]\n",
    "plt.plot(X,y,'o')\n",
    "plt.plot(x,log_reg.predict(x))"
   ]
  },
  {
   "cell_type": "code",
   "execution_count": 92,
   "metadata": {},
   "outputs": [
    {
     "data": {
      "text/plain": [
       "0.75"
      ]
     },
     "execution_count": 92,
     "metadata": {},
     "output_type": "execute_result"
    }
   ],
   "source": [
    "log_reg.score(X, y)"
   ]
  },
  {
   "cell_type": "code",
   "execution_count": 96,
   "metadata": {},
   "outputs": [
    {
     "data": {
      "text/plain": [
       "array([[3, 1],\n",
       "       [1, 3]])"
      ]
     },
     "execution_count": 96,
     "metadata": {},
     "output_type": "execute_result"
    }
   ],
   "source": [
    "from sklearn.metrics import confusion_matrix\n",
    "confusion_matrix(y, log_reg.predict(X))\n",
    "# read carefully!\n",
    "# ref: https://scikit-learn.org/stable/modules/generated/sklearn.metrics.confusion_matrix.html"
   ]
  },
  {
   "cell_type": "markdown",
   "metadata": {},
   "source": [
    "* You can improve your model by setting and adjusting parameters. Try it!"
   ]
  },
  {
   "cell_type": "markdown",
   "metadata": {},
   "source": [
    "### Softmax Regression (Multinomial Logistic Regression)\n",
    "* 소프트맥스 회귀 혹은 다중로지스틱 회귀는 딥러닝을 배울 때 함께 소개하도록 하겠습니다."
   ]
  },
  {
   "cell_type": "code",
   "execution_count": null,
   "metadata": {},
   "outputs": [],
   "source": []
  }
 ],
 "metadata": {
  "kernelspec": {
   "display_name": "Python 3",
   "language": "python",
   "name": "python3"
  },
  "language_info": {
   "codemirror_mode": {
    "name": "ipython",
    "version": 3
   },
   "file_extension": ".py",
   "mimetype": "text/x-python",
   "name": "python",
   "nbconvert_exporter": "python",
   "pygments_lexer": "ipython3",
   "version": "3.7.4"
  }
 },
 "nbformat": 4,
 "nbformat_minor": 2
}
