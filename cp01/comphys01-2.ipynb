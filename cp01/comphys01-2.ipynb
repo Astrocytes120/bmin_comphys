{
 "cells": [
  {
   "cell_type": "markdown",
   "metadata": {},
   "source": [
    "# 파이썬 익히기 (if / while / for)\n",
    "**들여쓰기 주의! 또 주의!**\n",
    "\n",
    "**문장 끝에 \":\"**"
   ]
  },
  {
   "cell_type": "markdown",
   "metadata": {},
   "source": [
    "## 1. 만약에 (if, elif, else)"
   ]
  },
  {
   "cell_type": "markdown",
   "metadata": {},
   "source": [
    "### 예시 1 : 학점 계산기"
   ]
  },
  {
   "cell_type": "code",
   "execution_count": 10,
   "metadata": {},
   "outputs": [
    {
     "name": "stdout",
     "output_type": "stream",
     "text": [
      "당신의 학점은 \n",
      "B\n"
     ]
    }
   ],
   "source": [
    "x=80\n",
    "\n",
    "print(\"당신의 학점은 \")\n",
    "\n",
    "if x>=90:\n",
    "    print(\"A\")\n",
    "elif x>=80:\n",
    "    print(\"B\")\n",
    "elif x>=70:\n",
    "    print(\"C\")\n",
    "elif x>=60:\n",
    "    print(\"D\")\n",
    "else:\n",
    "    print(\"F!\")"
   ]
  },
  {
   "cell_type": "markdown",
   "metadata": {},
   "source": [
    "## 2. 동안 (while)\n",
    "**무한루프 주의!**"
   ]
  },
  {
   "cell_type": "markdown",
   "metadata": {},
   "source": [
    "### 예시 2 : 팩토리얼"
   ]
  },
  {
   "cell_type": "code",
   "execution_count": 28,
   "metadata": {},
   "outputs": [
    {
     "name": "stdout",
     "output_type": "stream",
     "text": [
      "120\n"
     ]
    }
   ],
   "source": [
    "num=5\n",
    "\n",
    "factorial=1\n",
    "while(num>0):\n",
    "    factorial = factorial*num\n",
    "    num=num-1\n",
    "    \n",
    "print(factorial)"
   ]
  },
  {
   "cell_type": "code",
   "execution_count": 52,
   "metadata": {},
   "outputs": [
    {
     "name": "stdout",
     "output_type": "stream",
     "text": [
      "120\n"
     ]
    }
   ],
   "source": [
    "num=5\n",
    "\n",
    "factorial=1\n",
    "while(num>0):\n",
    "    factorial *= num\n",
    "    num -= 1\n",
    "print(factorial)"
   ]
  },
  {
   "cell_type": "markdown",
   "metadata": {},
   "source": [
    "## 3. 동안 (for)"
   ]
  },
  {
   "cell_type": "markdown",
   "metadata": {},
   "source": [
    "### 예시 3 : 합계"
   ]
  },
  {
   "cell_type": "code",
   "execution_count": 53,
   "metadata": {},
   "outputs": [
    {
     "name": "stdout",
     "output_type": "stream",
     "text": [
      "28\n"
     ]
    }
   ],
   "source": [
    "score = [9, 8, 7, 4]\n",
    "s = 0\n",
    "for i in score:\n",
    "    s += i\n",
    "print(s)"
   ]
  }
 ],
 "metadata": {
  "kernelspec": {
   "display_name": "Python 3",
   "language": "python",
   "name": "python3"
  },
  "language_info": {
   "codemirror_mode": {
    "name": "ipython",
    "version": 3
   },
   "file_extension": ".py",
   "mimetype": "text/x-python",
   "name": "python",
   "nbconvert_exporter": "python",
   "pygments_lexer": "ipython3",
   "version": "3.7.4"
  }
 },
 "nbformat": 4,
 "nbformat_minor": 2
}
