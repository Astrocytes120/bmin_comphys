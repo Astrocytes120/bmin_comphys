{
 "cells": [
  {
   "cell_type": "markdown",
   "metadata": {},
   "source": [
    "# 파이썬 익히기 (if / while / for)\n",
    "**들여쓰기 주의! 또 주의!**"
   ]
  },
  {
   "cell_type": "markdown",
   "metadata": {},
   "source": [
    "## 1. 만약에 (if, elif, else)"
   ]
  },
  {
   "cell_type": "raw",
   "metadata": {},
   "source": [
    "if문\n",
    "\n",
    "if 조건1:\n",
    "    statement(s)\n",
    "elif 조건2:\n",
    "    statement(s)\n",
    "elif 조건3:\n",
    "    statement(s)\n",
    "else:\n",
    "    statement(s)"
   ]
  },
  {
   "cell_type": "code",
   "execution_count": null,
   "metadata": {},
   "outputs": [],
   "source": []
  }
 ],
 "metadata": {
  "kernelspec": {
   "display_name": "Python 3",
   "language": "python",
   "name": "python3"
  },
  "language_info": {
   "codemirror_mode": {
    "name": "ipython",
    "version": 3
   },
   "file_extension": ".py",
   "mimetype": "text/x-python",
   "name": "python",
   "nbconvert_exporter": "python",
   "pygments_lexer": "ipython3",
   "version": "3.7.4"
  }
 },
 "nbformat": 4,
 "nbformat_minor": 2
}
