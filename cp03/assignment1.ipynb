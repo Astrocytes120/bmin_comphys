{
 "cells": [
  {
   "cell_type": "markdown",
   "metadata": {},
   "source": [
    "## 과제 1 : 비스듬히 던진 물체의 초기 발사각에 따른 최종 이동 거리 구하는 함수를 작성하여라.\n",
    "일반물리학 혹은 고전역학 교과서를 참조하면 이동거리($R$)와 각도($\\theta$)와의 관계는 다음으로 주어진다.   \n",
    "$R = \\frac{v_0^2}{g} \\sin 2\\theta.$  \n",
    "이동거리를 구하는 함수를 작성하여라."
   ]
  },
  {
   "cell_type": "code",
   "execution_count": 10,
   "metadata": {},
   "outputs": [],
   "source": [
    "from math import *\n",
    "g=9.8\n",
    "def r(v0,theta):\n",
    "    dist=v0**2*sin(2*theta)/g\n",
    "    return dist"
   ]
  },
  {
   "cell_type": "markdown",
   "metadata": {},
   "source": [
    "## 과제 2 : 뤼드베리(Rydberg) 공식\n",
    "원소 스펙트럼의 파장을 구하는 공식으로 수소의 경우 다음처럼 주어진다.  \n",
    "$\\frac{1}{\\lambda} = R_{\\infty} \\left( \\frac{1}{m^2} - \\frac{1}{n^2} \\right)$ where $n, m \\in {\\mathbb Z}$ and $m<n$\n",
    "이며 뤼드베리 상수는 $R_{\\infty}\\approx 1.097 \\times 10^7 m^{-1}$과 같다.  \n",
    "뤼드베리 공식에 따라 수소원자의 가능한 파장을 구하여라. "
   ]
  },
  {
   "cell_type": "code",
   "execution_count": 40,
   "metadata": {},
   "outputs": [],
   "source": [
    "r0=1.097*1e7\n",
    "def ryd(m,n):\n",
    "    lamb=0\n",
    "    if type(m)==int and type(n)==int:\n",
    "        if(m==n):\n",
    "            print(\"enter two different integers\")\n",
    "        elif(m<n):\n",
    "            lamb=r0*(1/m**2-1/n**2)\n",
    "        else:\n",
    "            lamb=r0*(1/n**2-1/m**2)\n",
    "        return lamb\n",
    "    else:\n",
    "        print(\"enter two different integers\")\n"
   ]
  },
  {
   "cell_type": "code",
   "execution_count": 43,
   "metadata": {},
   "outputs": [
    {
     "data": {
      "text/plain": [
       "1523611.1111111112"
      ]
     },
     "execution_count": 43,
     "metadata": {},
     "output_type": "execute_result"
    }
   ],
   "source": [
    "ryd(2,3)"
   ]
  },
  {
   "cell_type": "markdown",
   "metadata": {},
   "source": [
    "## 과제 3 : 피보나치 수  \n",
    "피보나치 수(Fibonacci numbers)는 처음 두 개의 항이 1이며 그 뒤의 모든 항은 앞의 두 개의 항의 합으로 주어지는 수열로 1, 1, 2, 3, 5, 8, $\\cdots$이다. $n$번째 피보나치 수 $F_n$은 다음의 식으로 구할 수 있다.  \n",
    "$F_1=F_2=1$  \n",
    "$F_n=F_{n-1}+F_{n-2}$, ($n \\in \\{3,4,\\cdots \\} $)  \n",
    "n번째 피보나치 수를 구하고, 1번부터 n번째 피보나치 수를 배열 혹은 리스트로 저장하는 프로그램을 작성하여라."
   ]
  },
  {
   "cell_type": "code",
   "execution_count": 73,
   "metadata": {},
   "outputs": [],
   "source": [
    "def fib(n):\n",
    "    if(n<=0 or type(n)!=int):\n",
    "        print(\"enter a positive integer\")\n",
    "    else:\n",
    "        if(n==1):\n",
    "            fn=[1]\n",
    "        elif(n==2):\n",
    "            fn=[1,1]\n",
    "        else:\n",
    "            fn=[1,1]\n",
    "            for i in range(2,n):\n",
    "                fn.append(fn[i-1]+fn[i-2])\n",
    "        return fn"
   ]
  },
  {
   "cell_type": "code",
   "execution_count": 74,
   "metadata": {},
   "outputs": [
    {
     "data": {
      "text/plain": [
       "[1, 1, 2, 3, 5, 8, 13, 21, 34, 55]"
      ]
     },
     "execution_count": 74,
     "metadata": {},
     "output_type": "execute_result"
    }
   ],
   "source": [
    "fib(10)"
   ]
  },
  {
   "cell_type": "markdown",
   "metadata": {},
   "source": [
    "## 과제 4 : 이항 계수(binomial coefficient)\n",
    "이항계수는 다음처럼 주어진다. \n",
    "$\\binom{n}{k}= \\frac{n!}{k!(n-k)!}$  \n",
    "주어진 n, k에 대해 이항계수를 구하는 함수를  \n",
    "1) math.factorial() 함수를 이용하는 혹은  \n",
    "2) math함수를 이용하지 않는 두가지 방법으로 작성하여라.  \n",
    "구한 결과를 파이썬 빌트인 함수의 결과와 비교하여라.  \n"
   ]
  },
  {
   "cell_type": "code",
   "execution_count": 3,
   "metadata": {},
   "outputs": [
    {
     "data": {
      "text/plain": [
       "6.0"
      ]
     },
     "execution_count": 3,
     "metadata": {},
     "output_type": "execute_result"
    }
   ],
   "source": [
    "# 이항계수를 구하는 빌트인 함수는 다음과 같다. \n",
    "import scipy.special\n",
    "\n",
    "scipy.special.binom(4,2)"
   ]
  },
  {
   "cell_type": "code",
   "execution_count": 71,
   "metadata": {},
   "outputs": [],
   "source": [
    "import math\n",
    "def binom_co(n,k):\n",
    "    return math.factorial(n)/math.factorial(k)/math.factorial(n-k)"
   ]
  },
  {
   "cell_type": "code",
   "execution_count": 72,
   "metadata": {},
   "outputs": [
    {
     "data": {
      "text/plain": [
       "6.0"
      ]
     },
     "execution_count": 72,
     "metadata": {},
     "output_type": "execute_result"
    }
   ],
   "source": [
    "binom_co(4,2)"
   ]
  },
  {
   "cell_type": "code",
   "execution_count": null,
   "metadata": {},
   "outputs": [],
   "source": []
  }
 ],
 "metadata": {
  "kernelspec": {
   "display_name": "Python 3",
   "language": "python",
   "name": "python3"
  },
  "language_info": {
   "codemirror_mode": {
    "name": "ipython",
    "version": 3
   },
   "file_extension": ".py",
   "mimetype": "text/x-python",
   "name": "python",
   "nbconvert_exporter": "python",
   "pygments_lexer": "ipython3",
   "version": "3.7.4"
  }
 },
 "nbformat": 4,
 "nbformat_minor": 2
}
