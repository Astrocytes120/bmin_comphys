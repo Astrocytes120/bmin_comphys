{
 "cells": [
  {
   "cell_type": "markdown",
   "metadata": {},
   "source": [
    "## 과제 1 코로나 바이러스 통계\n",
    "코로나 바이러스 확진자, 치료자, 사망자 데이터를 이용하여 코로나 바이러스 통계에 대한 그래프를 '보기 좋게' 그려라.  \n",
    "* reference: https://github.com/datasets/covid-19"
   ]
  },
  {
   "cell_type": "code",
   "execution_count": 8,
   "metadata": {},
   "outputs": [],
   "source": [
    "# 다음의 코드를 이용하세요.\n",
    "import csv\n",
    "\n",
    "f=open('c:/폴더주소/countries.csv', newline='')\n",
    "reader = csv.reader(f)\n",
    "countries = list(reader)\n",
    "\n",
    "name=[str(x[1]) for x in countries[1:]]\n",
    "# n_italy=[[float(x[2]),float(x[3]),float(x[4])] for x in countries[1:] if x[1]=='Italy']"
   ]
  },
  {
   "cell_type": "code",
   "execution_count": 9,
   "metadata": {},
   "outputs": [],
   "source": [
    "nc=[]\n",
    "ind=0\n",
    "for i in name:\n",
    "    temp=[[i,float(x[2]),float(x[3]),float(x[4])] for x in countries[1:] if x[1]==i]\n",
    "    nc.append(temp)\n",
    "    ind += 1"
   ]
  },
  {
   "cell_type": "code",
   "execution_count": 22,
   "metadata": {},
   "outputs": [],
   "source": [
    "nc[2]; # 국가명, 확진자, 완치자, 사망자"
   ]
  },
  {
   "cell_type": "markdown",
   "metadata": {},
   "source": [
    "## 과제 2 푸리에 전개\n",
    "푸리에 전개를 이용하여 사인함수의 선형조합으로 아래의 사각파를 표현할 수 있음을 확인하여라.  \n",
    "다음의 수식을 이용하고 $N \\rightarrow \\infty$인 극한에서 다음의 함수가 사각파가 됨을 확인하여라.\n",
    "\n",
    "\\begin{equation} f(x,N)= \\frac{4}{\\pi}\\sum_{n=1,3,5,\\cdots}^{N} \\frac{1}{n} \\sin (nx). \\end{equation}  \n",
    "\n",
    "구체적으로, \n",
    "0. 푸리에 전개를 이용하여 아래의 사각파가 사인파의 합으로 표현할 수 있음을 보여라.\n",
    "1. f(x,N)을 구현하는 함수를 작성하여라.\n",
    "2. N을 증가하면서 위의 함수의 형태를 그래프로 확인하여라."
   ]
  },
  {
   "cell_type": "code",
   "execution_count": 31,
   "metadata": {},
   "outputs": [
    {
     "data": {
      "image/png": "[encoded data removed]",
      "text/plain": [
       "<Figure size 432x288 with 1 Axes>"
      ]
     },
     "metadata": {
      "needs_background": "light"
     },
     "output_type": "display_data"
    }
   ],
   "source": [
    "from scipy import signal\n",
    " \n",
    "x = np.linspace(0, 10, 500)\n",
    "plt.plot(x, signal.square(x),label='square wave');\n",
    "\n",
    "plt.xlabel('Time')\n",
    "plt.ylabel('Amplitude')\n",
    "plt.legend()\n",
    "plt.grid()\n",
    "plt.ylim(-2, 2)\n",
    "plt.show()"
   ]
  },
  {
   "cell_type": "code",
   "execution_count": null,
   "metadata": {},
   "outputs": [],
   "source": []
  },
  {
   "cell_type": "code",
   "execution_count": null,
   "metadata": {},
   "outputs": [],
   "source": []
  }
 ],
 "metadata": {
  "kernelspec": {
   "display_name": "Python 3",
   "language": "python",
   "name": "python3"
  },
  "language_info": {
   "codemirror_mode": {
    "name": "ipython",
    "version": 3
   },
   "file_extension": ".py",
   "mimetype": "text/x-python",
   "name": "python",
   "nbconvert_exporter": "python",
   "pygments_lexer": "ipython3",
   "version": "3.7.4"
  }
 },
 "nbformat": 4,
 "nbformat_minor": 2
}
