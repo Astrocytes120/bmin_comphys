{
 "cells": [
  {
   "cell_type": "markdown",
   "metadata": {},
   "source": [
    "# Harmonic Oscillators"
   ]
  },
  {
   "cell_type": "markdown",
   "metadata": {},
   "source": [
    "2차 룬게-쿠타 방법을 이용하여 다음의 진동자의 운동방정식을 풀어라.\n",
    "$$ \\frac{d^2 x}{dt^2} + 2 \\beta \\frac{dx}{dt} + w^2 x = 0. $$ \n",
    "이 2차 미분방정식을 2개의 1차 미분방정식으로 분리하자.\n",
    "$$ \\frac{dx}{dt} = v, \\\\\n",
    "\\frac{d v}{dt} = - 2 \\beta v - w^2 x. $$ \n",
    "초기에 물체가 $x_0=1$, $v_0=0$인 상태에 존재했다고 하고, $\\beta=0.1$, $w=1$을 가정하고 운동을 구해보자."
   ]
  },
  {
   "cell_type": "markdown",
   "metadata": {},
   "source": [
    "# 미분방정식 풀이\n",
    "고전역학에서 배웠던 미분방정식 문제 중 하나를 골라서 Scipy.integrate.odeint를 이용하여 수치적으로 풀어라. "
   ]
  },
  {
   "cell_type": "code",
   "execution_count": null,
   "metadata": {},
   "outputs": [],
   "source": []
  }
 ],
 "metadata": {
  "kernelspec": {
   "display_name": "Python 3",
   "language": "python",
   "name": "python3"
  },
  "language_info": {
   "codemirror_mode": {
    "name": "ipython",
    "version": 3
   },
   "file_extension": ".py",
   "mimetype": "text/x-python",
   "name": "python",
   "nbconvert_exporter": "python",
   "pygments_lexer": "ipython3",
   "version": "3.7.4"
  }
 },
 "nbformat": 4,
 "nbformat_minor": 2
}
