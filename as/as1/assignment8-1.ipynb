{
 "cells": [
  {
   "cell_type": "markdown",
   "metadata": {},
   "source": [
    "# Hypersphere"
   ]
  },
  {
   "cell_type": "markdown",
   "metadata": {},
   "source": [
    "$n$차원에서의 구를 초구(hypershpere)라고 한다. 반지름이 $r$인 2차권 구의 부피(면적)은 $S_2=\\pi r^2$, 3차원은 $S_3=\\frac{4}{3} \\pi r^3$이다. 이를 확장하여 4차원, 5차원 혹은 일반적으로 $n$차원 초구의 부피를 몬테카를로 방법을 이용하여 추측해보자. \n",
    "* $n$차원 구의 부피는 $S_n = C_n r^n$이다.\n",
    "* 따라서 반지름이 1인 구를 생각하면 $S_n=C_n$과 같다.\n",
    "* 몬테카를로 방법을 이용한 2차원 원의 면적 문제를 응용하여 3, 4, 5차원에서 $C_n$의 근사값을 구하여라.\n",
    "* $n$차원 구의 부피를 추측하여라."
   ]
  },
  {
   "cell_type": "code",
   "execution_count": 1,
   "metadata": {},
   "outputs": [],
   "source": [
    "# 다음의 2차원 원의 면적을 구하는 코드를 이용하여도 좋다.\n",
    "# finding the area of a circle with radius 1\n",
    "import random\n",
    "import numpy as np\n",
    "\n",
    "def s_circle(n):\n",
    "    count=0\n",
    "    for i in range(n):\n",
    "        x,y=random.random(), random.random()\n",
    "        if x*x+y*y<1:\n",
    "            count+=1\n",
    "    return 4*count/n "
   ]
  },
  {
   "cell_type": "markdown",
   "metadata": {},
   "source": [
    "# Three-Level Systems"
   ]
  },
  {
   "cell_type": "markdown",
   "metadata": {},
   "source": [
    "세 개의 에너지 상태($E=0, 1 k, 2 k$)를 가지는 입자가 1000개 있다. 각 상태에 존재할 확률은 볼츠만 분포를 따른다. 다음의 과정을 거쳐서 평형상태에서 에너지를 구하여라.\n",
    "\n",
    "1. $N$개의 입자 중에 무작위로 하나를 고른다. 고른 입자를 $i$라고 부르자.\n",
    "2. 입자 $i$의 상태와 에너지를 확인한다. 이를 $E_x$이라고 하자.\n",
    "3. 입자 $i$의 상태가 변화했을 때 에너지를 확인하자. 이 때 변화할 상태는 두가지 중 무작위로 선정한다. 이를 $E_y$라고 하고 에너지 차이를 구한다. $\\Delta E=E_y-E_x$\n",
    "4. 만약 $\\Delta E \\le 0$이면 1의 확률로(즉 항상) 상태를 $x$에서 $y$로 바꾼다.\n",
    "5. 만약 $\\Delta E > 0$이면 $e^{-\\beta \\Delta E}$의 확률로 상태를 $y$로 바꾼다. 즉 0과 1사이의 랜덤넘버를 하나 구해서 이 값이 앞의 확률보다 낮으면 상태를 바꾼다.\n",
    "6. 평형상태에 도달할 때까지 이 과정을 충분히 오래 반복한다.  \n",
    "\n",
    "서로 다른 온도에 대해서 평균에너지를 구하고 이를 그래프로 나타내어라."
   ]
  },
  {
   "cell_type": "code",
   "execution_count": null,
   "metadata": {},
   "outputs": [],
   "source": []
  }
 ],
 "metadata": {
  "kernelspec": {
   "display_name": "Python 3",
   "language": "python",
   "name": "python3"
  },
  "language_info": {
   "codemirror_mode": {
    "name": "ipython",
    "version": 3
   },
   "file_extension": ".py",
   "mimetype": "text/x-python",
   "name": "python",
   "nbconvert_exporter": "python",
   "pygments_lexer": "ipython3",
   "version": "3.7.4"
  }
 },
 "nbformat": 4,
 "nbformat_minor": 2
}
