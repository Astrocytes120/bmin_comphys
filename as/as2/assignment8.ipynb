{
 "cells": [
  {
   "cell_type": "markdown",
   "metadata": {},
   "source": [
    "## MNIST \n",
    "#### MNIST 손글씨 이미지를 딥러닝을 이용하여 분류하여라. "
   ]
  },
  {
   "cell_type": "markdown",
   "metadata": {},
   "source": [
    "다음은 일반적인 딥러닝 작업 단계입니다. 이를 고려하면서 문제를 해결하세요.\n",
    "1. 문제와 데이터에 대한 이해\n",
    "2. 명확한 목표 설정 (ex: 정확도)\n",
    "3. 검증방법 설정 \n",
    "4. 모델 설정 (layer 수, 활성화 함수, optimizer, batch size 등)\n",
    "5. dropout, layer 줄이기, 모델 사이즈 줄이기 등으로 모델을 규제하고 과소적합도 과대적합도 아닌 적정한 모델 찾기"
   ]
  },
  {
   "cell_type": "markdown",
   "metadata": {},
   "source": [
    "다음은 문제 유형에 따른 적절한 loss 함수와 출력층의 활성화 함수입니다. 참조하세요.\n",
    "\n",
    "| 문제 유형 | loss function | activation function |\n",
    "| --- | --- | --- |\n",
    "| binary classification | binary_crossentropy | sigmoid |\n",
    "| multi-class classification | categorical_crossentropy | softmax |\n",
    "| regression | - | MSE (mean squared error) |"
   ]
  },
  {
   "cell_type": "code",
   "execution_count": 2,
   "metadata": {},
   "outputs": [],
   "source": [
    "from keras.datasets import mnist\n",
    "from tensorflow import keras\n",
    "from keras import models \n",
    "from keras import layers\n",
    "import numpy as np\n",
    "import matplotlib.pyplot as plt\n",
    "from keras.utils import to_categorical\n",
    "\n",
    "(X, y), (X_test, y_test) = mnist.load_data()"
   ]
  },
  {
   "cell_type": "code",
   "execution_count": null,
   "metadata": {},
   "outputs": [],
   "source": []
  },
  {
   "cell_type": "code",
   "execution_count": null,
   "metadata": {},
   "outputs": [],
   "source": []
  }
 ],
 "metadata": {
  "kernelspec": {
   "display_name": "Python 3",
   "language": "python",
   "name": "python3"
  },
  "language_info": {
   "codemirror_mode": {
    "name": "ipython",
    "version": 3
   },
   "file_extension": ".py",
   "mimetype": "text/x-python",
   "name": "python",
   "nbconvert_exporter": "python",
   "pygments_lexer": "ipython3",
   "version": "3.7.4"
  }
 },
 "nbformat": 4,
 "nbformat_minor": 2
}
