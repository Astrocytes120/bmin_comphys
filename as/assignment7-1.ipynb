{
 "cells": [
  {
   "cell_type": "markdown",
   "metadata": {},
   "source": [
    "# Pendulum"
   ]
  },
  {
   "cell_type": "markdown",
   "metadata": {},
   "source": [
    "다음처럼 주어지는 진자의 운동방정식을 풀어라.\n",
    "$$ \\frac{d^2 \\theta}{dt^2} + \\beta \\frac{d \\theta}{dt} + \\frac{g}{L} \\sin \\theta = 0. $$ \n",
    "$\\beta$는 마찰의 세기, $L$은 진자의 길이, $g$는 중력가속도이다. 흔히 작은 $\\theta$를 가정하고 \n",
    "$\\sin\\theta \\approx \\theta$ 근사를 이용하여 해석적인 해를 구한다. \n",
    "여기에서는 $\\sin \\theta$를 직접 이용하여 수치해를 구해보자.  \n",
    "\n",
    "2차 미분방정식을 2개의 1차 미분방정식으로 분리하자.\n",
    "$$ \\frac{d\\theta}{dt} = w, \\\\\n",
    "\\frac{d w}{dt} = - \\beta w - \\frac{g}{L} \\sin \\theta . $$ \n",
    "\n",
    "초기 상태는 $\\theta_0 = 1, w_0 =0$이며 $\\beta=0.1, \\frac{g}{L}=1$을 가정하고 운동의 해를 구해보자. scipy.integrate.odeint를 포함하여 어떤 방법을 이용하여도 된다."
   ]
  },
  {
   "cell_type": "markdown",
   "metadata": {},
   "source": [
    "# SIR Model and Basic Reproduction Number"
   ]
  },
  {
   "cell_type": "markdown",
   "metadata": {},
   "source": [
    "전염확산 모형 중 하나인 SIR 모형을 살펴보자. SIR 모형은 Susceptible (S), Infectious (I), Recovered (R), 세 가지 상태로 구성된 모형이며 잘 섞여있는 인구에 대해서 이 모형은 동역학은 다음의 방정식으로 주어진다.\n",
    "\n",
    "$$ \\frac{dS}{dt} = -\\frac{\\beta I S}{N}, \\\\\n",
    "\\frac{dI}{dt} = \\frac{\\beta I S}{N} - \\gamma I, \\\\\n",
    "\\frac{dR}{dt} = \\gamma I. $$\n",
    "여기에서 $\\beta$는 단위 시간, 단위 인구 당평균 감염 비율이며, $\\gamma$는 평균 치료 비율이다. $S$, $I$, $R$은 각각 미감염자(S), 감염자(I), 완치자(R)의 수이며 $N$은 총 인구수이다. $S(t)+I(t)+R(t)=N$이다. \n",
    "\n",
    "$I$를 다시 정리하면\n",
    "$$\\frac{dI}{dt} = \\frac{\\beta I S}{N} - \\gamma I =\\left( \\frac{1}{\\gamma I} \\frac{\\beta I S}{N} -1 \\right) \\gamma I =\\left( \\frac{\\beta}{\\gamma} \\frac{S}{N} -1 \\right) \\gamma I. $$\n",
    "기본감염재생수(Basic Reproduction Number)를 $R_0=\\frac{\\beta}{\\gamma}$로 정의하면  \n",
    "$$\\frac{dI}{dt} = \\left( R_0 \\frac{S}{N} -1 \\right) \\gamma I. $$\n",
    "즉 $R_0>1$이면 $\\frac{dI}{dt} >0$, $R_0<1$이면 $\\frac{dI}{dt} <0$이다.\n",
    "\n",
    "* 참조 : https://en.wikipedia.org/wiki/Compartmental_models_in_epidemiology#Bio-mathematical_deterministic_treatment_of_the_SIR_model"
   ]
  },
  {
   "cell_type": "code",
   "execution_count": null,
   "metadata": {},
   "outputs": [],
   "source": []
  },
  {
   "cell_type": "markdown",
   "metadata": {},
   "source": [
    "$$ \\frac{dS}{dt} = -\\frac{\\beta I S}{N}, \\\\\n",
    "\\frac{dI}{dt} = \\frac{\\beta I S}{N} - \\gamma I, \\\\\n",
    "\\frac{dR}{dt} = \\gamma I. $$\n",
    "\n",
    "위의 주어진 식의 수치해를 구하여라. \n",
    "$$N=1000, S=999, I=1, \\gamma=1$$을 가정하며\n",
    "$\\beta$가 $\\gamma$보다 클 때 또 작을 때 동역학의 결과를 비교하여라."
   ]
  },
  {
   "cell_type": "code",
   "execution_count": 7,
   "metadata": {},
   "outputs": [
    {
     "data": {
      "text/plain": [
       "[<matplotlib.lines.Line2D at 0x7f87a8ef6f90>,\n",
       " <matplotlib.lines.Line2D at 0x7f87a8f031d0>,\n",
       " <matplotlib.lines.Line2D at 0x7f87a8f03390>]"
      ]
     },
     "execution_count": 7,
     "metadata": {},
     "output_type": "execute_result"
    },
    {
     "data": {
      "image/png": "[encoded data removed]",
      "text/plain": [
       "<Figure size 432x288 with 1 Axes>"
      ]
     },
     "metadata": {
      "needs_background": "light"
     },
     "output_type": "display_data"
    }
   ],
   "source": [
    "%matplotlib inline\n",
    "import matplotlib.pyplot as plt\n",
    "import numpy as np\n",
    "from scipy.integrate import odeint\n",
    "\n",
    "N = 1000.0\n",
    "g = 1.0\n",
    "b = 2.0\n",
    "def f(state, t):\n",
    "    S, I, R = state  \n",
    "    return -b*I*S/N, b*I*S/N - g*I, g*I \n",
    "\n",
    "state0 = [999.0, 1.0, 0.0]\n",
    "t = np.arange(0.0, 100.0, 0.01)\n",
    "states = odeint(f, state0, t)\n",
    "plt.plot(t,states[:,0],t,states[:,1],t,states[:,2])"
   ]
  },
  {
   "cell_type": "code",
   "execution_count": null,
   "metadata": {},
   "outputs": [],
   "source": []
  },
  {
   "cell_type": "code",
   "execution_count": null,
   "metadata": {},
   "outputs": [],
   "source": []
  }
 ],
 "metadata": {
  "kernelspec": {
   "display_name": "Python 3",
   "language": "python",
   "name": "python3"
  },
  "language_info": {
   "codemirror_mode": {
    "name": "ipython",
    "version": 3
   },
   "file_extension": ".py",
   "mimetype": "text/x-python",
   "name": "python",
   "nbconvert_exporter": "python",
   "pygments_lexer": "ipython3",
   "version": "3.7.4"
  }
 },
 "nbformat": 4,
 "nbformat_minor": 2
}
