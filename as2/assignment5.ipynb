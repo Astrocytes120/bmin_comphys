{
 "cells": [
  {
   "cell_type": "markdown",
   "metadata": {},
   "source": [
    "# Kaggle (Titanic competition)"
   ]
  },
  {
   "cell_type": "markdown",
   "metadata": {},
   "source": [
    "## 1. 튜토리얼 \n",
    "\n",
    "다음의 튜토리얼을 따라서 Random Forest 방법을 이용하여 케글 타이타닉 문제를 해결하여라. 지금까지 수업에서 배운 정보 외에 간단한 Pandas 사용법을 익혀야 한다. 우선은 아래 튜토리얼을 따라서 결과를 제출하여라. \n",
    "\n",
    "* https://www.kaggle.com/alexisbcook/titanic-tutorial"
   ]
  },
  {
   "cell_type": "markdown",
   "metadata": {},
   "source": [
    "* 과제 확인을 위해 케글 노트북 주소를 자신의 깃허브에 공개하세요. (반드시 노트북을 public으로 해두세요. sharing-public)"
   ]
  },
  {
   "cell_type": "markdown",
   "metadata": {},
   "source": [
    "## 2. Compete! \n",
    "지금까지 배운 알고리듬을 이용하여 타이타닉 데이터 score를 가능한 최대한 높여서 파일을 제출하고 노트북을 공개하세요. 이 과제는 다른 과제보다 배점이 높으며 자신이 받은 score가 자신의 점수와 선형으로 비례할 것입니다. \n"
    "* 과제 확인을 위해 케글 노트북 주소를 자신의 깃허브에 공개하세요. (반드시 노트북을 public으로 해두세요. sharing-public) \n"
    
   ]
  },
  {
   "cell_type": "code",
   "execution_count": null,
   "metadata": {},
   "outputs": [],
   "source": []
  }
 ],
 "metadata": {
  "kernelspec": {
   "display_name": "Python 3",
   "language": "python",
   "name": "python3"
  },
  "language_info": {
   "codemirror_mode": {
    "name": "ipython",
    "version": 3
   },
   "file_extension": ".py",
   "mimetype": "text/x-python",
   "name": "python",
   "nbconvert_exporter": "python",
   "pygments_lexer": "ipython3",
   "version": "3.7.4"
  }
 },
 "nbformat": 4,
 "nbformat_minor": 2
}
