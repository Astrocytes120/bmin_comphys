{
 "cells": [
  {
   "cell_type": "markdown",
   "metadata": {},
   "source": [
    "# Convolutional Neural Networks (CNN)\n",
    "* 컨볼루션 신경망(CNN)은 컨볼루션 레이어와 풀링을 결합한 신경망이다.  \n",
    "* Gradient-based learning applied to document recognition, Y. Lecun et al., (1998). [https://ieeexplore.ieee.org/document/726791]"
   ]
  },
  {
   "cell_type": "markdown",
   "metadata": {},
   "source": [
    "### MNIST example"
   ]
  },
  {
   "cell_type": "code",
   "execution_count": 1,
   "metadata": {},
   "outputs": [],
   "source": [
    "import numpy as np\n",
    "from tensorflow import keras\n",
    "from keras import models \n",
    "from keras import layers\n",
    "from keras.datasets import mnist\n",
    "from keras.utils import to_categorical\n",
    "import matplotlib.pyplot as plt"
   ]
  },
  {
   "cell_type": "code",
   "execution_count": 2,
   "metadata": {},
   "outputs": [],
   "source": [
    "(X_train, y_train), (X_test, y_test) = mnist.load_data()\n",
    "\n",
    "# preprocessing\n",
    "X_train = X_train.reshape((60000, 28, 28, 1))\n",
    "X_train = X_train/255\n",
    "\n",
    "X_test = X_test.reshape((10000, 28, 28, 1))\n",
    "X_test = X_test/255\n",
    "\n",
    "y_train=to_categorical(y_train)\n",
    "y_test=to_categorical(y_test)"
   ]
  },
  {
   "cell_type": "code",
   "execution_count": 3,
   "metadata": {},
   "outputs": [],
   "source": [
    "net = models.Sequential()\n",
    "net.add(layers.Conv2D(32,(3,3), activation='relu', input_shape=(28,28,1)))\n",
    "net.add(layers.MaxPooling2D((2,2)))\n",
    "net.add(layers.Conv2D(64,(3,3), activation='relu')) \n",
    "net.add(layers.MaxPooling2D((2,2)))\n",
    "net.add(layers.Conv2D(64,(3,3), activation='relu'))\n",
    "net.add(layers.Flatten())\n",
    "net.add(layers.Dense(64, activation='relu')) \n",
    "net.add(layers.Dense(10, activation='softmax')) \n",
    "net.compile(optimizer='nadam',loss='categorical_crossentropy',metrics=['acc'])"
   ]
  },
  {
   "cell_type": "code",
   "execution_count": 4,
   "metadata": {},
   "outputs": [
    {
     "name": "stdout",
     "output_type": "stream",
     "text": [
      "Model: \"sequential\"\n",
      "_________________________________________________________________\n",
      "Layer (type)                 Output Shape              Param #   \n",
      "=================================================================\n",
      "conv2d (Conv2D)              (None, 26, 26, 32)        320       \n",
      "_________________________________________________________________\n",
      "max_pooling2d (MaxPooling2D) (None, 13, 13, 32)        0         \n",
      "_________________________________________________________________\n",
      "conv2d_1 (Conv2D)            (None, 11, 11, 64)        18496     \n",
      "_________________________________________________________________\n",
      "max_pooling2d_1 (MaxPooling2 (None, 5, 5, 64)          0         \n",
      "_________________________________________________________________\n",
      "conv2d_2 (Conv2D)            (None, 3, 3, 64)          36928     \n",
      "_________________________________________________________________\n",
      "flatten (Flatten)            (None, 576)               0         \n",
      "_________________________________________________________________\n",
      "dense (Dense)                (None, 64)                36928     \n",
      "_________________________________________________________________\n",
      "dense_1 (Dense)              (None, 10)                650       \n",
      "=================================================================\n",
      "Total params: 93,322\n",
      "Trainable params: 93,322\n",
      "Non-trainable params: 0\n",
      "_________________________________________________________________\n"
     ]
    }
   ],
   "source": [
    "net.summary()"
   ]
  },
  {
   "cell_type": "code",
   "execution_count": 5,
   "metadata": {},
   "outputs": [
    {
     "name": "stdout",
     "output_type": "stream",
     "text": [
      "Epoch 1/5\n",
      "938/938 [==============================] - 13s 14ms/step - loss: 0.1733 - acc: 0.9463\n",
      "Epoch 2/5\n",
      "938/938 [==============================] - 14s 15ms/step - loss: 0.0481 - acc: 0.9848\n",
      "Epoch 3/5\n",
      "938/938 [==============================] - 15s 16ms/step - loss: 0.0332 - acc: 0.9893\n",
      "Epoch 4/5\n",
      "938/938 [==============================] - 15s 16ms/step - loss: 0.0249 - acc: 0.9923\n",
      "Epoch 5/5\n",
      "938/938 [==============================] - 15s 16ms/step - loss: 0.0211 - acc: 0.9933\n"
     ]
    },
    {
     "data": {
      "text/plain": [
       "<tensorflow.python.keras.callbacks.History at 0x7fc39af70650>"
      ]
     },
     "execution_count": 5,
     "metadata": {},
     "output_type": "execute_result"
    }
   ],
   "source": [
    "net.fit(X_train, y_train, epochs=5, batch_size=64)"
   ]
  },
  {
   "cell_type": "code",
   "execution_count": 6,
   "metadata": {},
   "outputs": [
    {
     "name": "stdout",
     "output_type": "stream",
     "text": [
      "313/313 [==============================] - 1s 4ms/step - loss: 0.0297 - acc: 0.9911\n"
     ]
    }
   ],
   "source": [
    "test_loss, test_acc = net.evaluate(X_test,y_test)"
   ]
  },
  {
   "cell_type": "markdown",
   "metadata": {},
   "source": [
    "### CIFAR-10 example\n",
    "* https://www.cs.toronto.edu/~kriz/cifar.html"
   ]
  },
  {
   "cell_type": "code",
   "execution_count": 7,
   "metadata": {},
   "outputs": [],
   "source": [
    "from keras.datasets import cifar10\n",
    "\n",
    "(X_train, y_train), (X_test, y_test) = cifar10.load_data()\n",
    "# it takes a few minutes."
   ]
  },
  {
   "cell_type": "code",
   "execution_count": 8,
   "metadata": {},
   "outputs": [],
   "source": [
    "# preprocessing\n",
    "X_train = X_train.reshape((50000, 32, 32, 3))\n",
    "X_train = X_train/255\n",
    "\n",
    "X_test = X_test.reshape((10000, 32, 32, 3))\n",
    "X_test = X_test/255\n",
    "\n",
    "y_train=to_categorical(y_train)\n",
    "y_test=to_categorical(y_test)"
   ]
  },
  {
   "cell_type": "code",
   "execution_count": 18,
   "metadata": {},
   "outputs": [
    {
     "data": {
      "text/plain": [
       "<matplotlib.image.AxesImage at 0x7fc3b9007350>"
      ]
     },
     "execution_count": 18,
     "metadata": {},
     "output_type": "execute_result"
    },
    {
     "data": {
      "image/png": "[encoded data removed]",
      "text/plain": [
       "<Figure size 432x288 with 3 Axes>"
      ]
     },
     "metadata": {
      "needs_background": "light"
     },
     "output_type": "display_data"
    }
   ],
   "source": [
    "plt.subplot(131)\n",
    "plt.imshow(X_train[0])\n",
    "plt.subplot(132)\n",
    "plt.imshow(X_train[1])\n",
    "plt.subplot(133)\n",
    "plt.imshow(X_train[2])"
   ]
  },
  {
   "cell_type": "code",
   "execution_count": 19,
   "metadata": {},
   "outputs": [
    {
     "data": {
      "text/plain": [
       "array([0., 0., 0., 0., 0., 0., 1., 0., 0., 0.], dtype=float32)"
      ]
     },
     "execution_count": 19,
     "metadata": {},
     "output_type": "execute_result"
    }
   ],
   "source": [
    "y_train[0]"
   ]
  },
  {
   "cell_type": "markdown",
   "metadata": {},
   "source": [
    "* airplane / automobile / bird / cat / deer / dog / frog / horse / ship / truck"
   ]
  },
  {
   "cell_type": "code",
   "execution_count": 20,
   "metadata": {},
   "outputs": [],
   "source": [
    "X_val = X_train[:10000]\n",
    "partial_X_train = X_train[10000:]\n",
    "\n",
    "y_val = y_train[:10000]\n",
    "partial_y_train = y_train[10000:]"
   ]
  },
  {
   "cell_type": "code",
   "execution_count": 32,
   "metadata": {},
   "outputs": [],
   "source": [
    "nn = models.Sequential()\n",
    "nn.add(layers.Conv2D(32,(3,3), activation='relu', input_shape=(32,32,3)))\n",
    "nn.add(layers.MaxPooling2D((2,2)))\n",
    "nn.add(layers.Conv2D(64,(3,3), activation='relu')) \n",
    "nn.add(layers.MaxPooling2D((2,2)))\n",
    "nn.add(layers.Conv2D(64,(3,3), activation='relu'))\n",
    "nn.add(layers.Flatten())\n",
    "nn.add(layers.Dense(512, activation='relu')) \n",
    "nn.add(layers.Dropout(0.5)) \n",
    "nn.add(layers.Dense(64, activation='relu')) \n",
    "nn.add(layers.Dense(10, activation='softmax')) \n",
    "nn.compile(optimizer='nadam',loss='categorical_crossentropy',metrics=['acc'])"
   ]
  },
  {
   "cell_type": "code",
   "execution_count": 33,
   "metadata": {},
   "outputs": [
    {
     "name": "stdout",
     "output_type": "stream",
     "text": [
      "Epoch 1/10\n",
      "625/625 [==============================] - 19s 30ms/step - loss: 1.6579 - acc: 0.3894 - val_loss: 1.2995 - val_acc: 0.5254\n",
      "Epoch 2/10\n",
      "625/625 [==============================] - 18s 29ms/step - loss: 1.2437 - acc: 0.5537 - val_loss: 1.1067 - val_acc: 0.6055\n",
      "Epoch 3/10\n",
      "625/625 [==============================] - 19s 31ms/step - loss: 1.0528 - acc: 0.6275 - val_loss: 1.0614 - val_acc: 0.6181\n",
      "Epoch 4/10\n",
      "625/625 [==============================] - 19s 31ms/step - loss: 0.9151 - acc: 0.6798 - val_loss: 0.8902 - val_acc: 0.6873\n",
      "Epoch 5/10\n",
      "625/625 [==============================] - 19s 31ms/step - loss: 0.8197 - acc: 0.7131 - val_loss: 0.8542 - val_acc: 0.7040\n",
      "Epoch 6/10\n",
      "625/625 [==============================] - 19s 30ms/step - loss: 0.7420 - acc: 0.7396 - val_loss: 0.8388 - val_acc: 0.7066\n",
      "Epoch 7/10\n",
      "625/625 [==============================] - 19s 30ms/step - loss: 0.6722 - acc: 0.7628 - val_loss: 0.8236 - val_acc: 0.7185\n",
      "Epoch 8/10\n",
      "625/625 [==============================] - 19s 31ms/step - loss: 0.6152 - acc: 0.7822 - val_loss: 0.8548 - val_acc: 0.7125\n",
      "Epoch 9/10\n",
      "625/625 [==============================] - 19s 31ms/step - loss: 0.5562 - acc: 0.8036 - val_loss: 0.8387 - val_acc: 0.7240\n",
      "Epoch 10/10\n",
      "625/625 [==============================] - 26s 42ms/step - loss: 0.5063 - acc: 0.8215 - val_loss: 0.8614 - val_acc: 0.7261\n"
     ]
    }
   ],
   "source": [
    "val= nn.fit(partial_X_train,partial_y_train,epochs=10, batch_size=64, validation_data=(X_val, y_val))"
   ]
  },
  {
   "cell_type": "code",
   "execution_count": 30,
   "metadata": {},
   "outputs": [
    {
     "data": {
      "text/plain": [
       "<matplotlib.legend.Legend at 0x7fc3aa842210>"
      ]
     },
     "execution_count": 30,
     "metadata": {},
     "output_type": "execute_result"
    },
    {
     "data": {
      "image/png": "[encoded data removed]",
      "text/plain": [
       "<Figure size 432x288 with 1 Axes>"
      ]
     },
     "metadata": {
      "needs_background": "light"
     },
     "output_type": "display_data"
    }
   ],
   "source": [
    "val_dict = val.history\n",
    "loss = val_dict['loss']\n",
    "val_loss = val_dict['val_loss']\n",
    "\n",
    "x = np.arange(0,len(loss))\n",
    "plt.plot(x,loss,'bo',label='E')\n",
    "plt.plot(x,val_loss,'ro',label='$E_v$')\n",
    "plt.legend()"
   ]
  },
  {
   "cell_type": "code",
   "execution_count": 31,
   "metadata": {},
   "outputs": [
    {
     "data": {
      "text/plain": [
       "[<matplotlib.lines.Line2D at 0x7fc37832cc90>]"
      ]
     },
     "execution_count": 31,
     "metadata": {},
     "output_type": "execute_result"
    },
    {
     "data": {
      "image/png": "[encoded data removed]",
      "text/plain": [
       "<Figure size 432x288 with 1 Axes>"
      ]
     },
     "metadata": {
      "needs_background": "light"
     },
     "output_type": "display_data"
    }
   ],
   "source": [
    "acc = val_dict['acc']\n",
    "val_acc = val_dict['val_acc']\n",
    "plt.plot(x,acc,'bo',label='Accuracy')\n",
    "plt.plot(x,val_acc,'ro',label='A_v')"
   ]
  },
  {
   "cell_type": "code",
   "execution_count": 35,
   "metadata": {},
   "outputs": [
    {
     "name": "stdout",
     "output_type": "stream",
     "text": [
      "313/313 [==============================] - 3s 9ms/step - loss: 0.8861 - acc: 0.7159\n"
     ]
    }
   ],
   "source": [
    "test_loss, test_acc = nn.evaluate(X_test,y_test)"
   ]
  },
  {
   "cell_type": "markdown",
   "metadata": {},
   "source": [
    "* CNN을 이용한 좋은 알고리듬들을 살펴보자. https://keras.io/api/applications/"
   ]
  },
  {
   "cell_type": "code",
   "execution_count": null,
   "metadata": {},
   "outputs": [],
   "source": []
  }
 ],
 "metadata": {
  "kernelspec": {
   "display_name": "Python 3",
   "language": "python",
   "name": "python3"
  },
  "language_info": {
   "codemirror_mode": {
    "name": "ipython",
    "version": 3
   },
   "file_extension": ".py",
   "mimetype": "text/x-python",
   "name": "python",
   "nbconvert_exporter": "python",
   "pygments_lexer": "ipython3",
   "version": "3.7.4"
  }
 },
 "nbformat": 4,
 "nbformat_minor": 2
}
