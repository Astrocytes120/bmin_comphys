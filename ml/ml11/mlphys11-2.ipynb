{
 "cells": [
  {
   "cell_type": "markdown",
   "metadata": {},
   "source": [
    "# Recurrent Neural Networks (RNN)"
   ]
  },
  {
   "cell_type": "code",
   "execution_count": 284,
   "metadata": {},
   "outputs": [],
   "source": [
    "# data\n",
    "\n",
    "import os\n",
    "import numpy as np\n",
    "import matplotlib.pyplot as plt\n",
    "from tensorflow import keras\n",
    "from keras import models \n",
    "from keras import layers\n",
    "import pandas as pd\n",
    "\n",
    "zip_path = keras.utils.get_file(\n",
    "    origin='https://storage.googleapis.com/tensorflow/tf-keras-datasets/jena_climate_2009_2016.csv.zip',\n",
    "    fname='jena_climate_2009_2016.csv.zip',\n",
    "    extract=True)\n",
    "csv_path, _ = os.path.splitext(zip_path)\n",
    "df = pd.read_csv(csv_path)\n",
    "\n",
    "temp=df['T (degC)']\n",
    "\n",
    "split_fraction = 0.8\n",
    "train_split = int(split_fraction * int(df.shape[0]))\n",
    "\n",
    "step = 6 # 1시간 마다\n",
    "past = 240 # 10 일\n",
    "tomo = 24 # 24 시간\n",
    "\n",
    "temp=np.array(df['T (degC)'])\n",
    "temp = temp[::step]\n",
    "train_split=(int)(0.7*len(temp))\n",
    "\n",
    "data = (temp[:train_split]-np.mean(temp[:train_split]))/np.std(temp[:train_split])\n",
    "test = (temp[train_split:]-np.mean(temp[train_split:]))/np.std(temp[train_split:])\n",
    "\n",
    "def gent(ts, lookback):\n",
    "    X, Y = [], []\n",
    "    for i in range(len(ts) // lookback):\n",
    "        X.append(ts[i*lookback:(i+1)*lookback],)\n",
    "        Y.append(ts[(i+1)*lookback])\n",
    "    return np.array(X), np.array(Y)\n",
    "\n",
    "gen=gent(data,past)"
   ]
  },
  {
   "cell_type": "code",
   "execution_count": 285,
   "metadata": {},
   "outputs": [],
   "source": [
    "X_train = np.reshape(gen[0], (len(gen[0]), gen[0].shape[1], 1))\n",
    "y=gen[1]\n",
    "\n",
    "gen=gent(test,past)\n",
    "X_test = np.reshape(gen[0], (len(gen[0]), gen[0].shape[1], 1))\n",
    "y_test=gen[1]"
   ]
  },
  {
   "cell_type": "code",
   "execution_count": 286,
   "metadata": {},
   "outputs": [
    {
     "data": {
      "text/plain": [
       "((204, 240, 1), (204,))"
      ]
     },
     "execution_count": 286,
     "metadata": {},
     "output_type": "execute_result"
    }
   ],
   "source": [
    "X_train.shape, y.shape"
   ]
  },
  {
   "cell_type": "code",
   "execution_count": 287,
   "metadata": {},
   "outputs": [],
   "source": [
    "rnn = models.Sequential()\n",
    "rnn.add(layers.SimpleRNN(32, activation='relu', \n",
    "                         input_shape = (240,1)))\n",
    "rnn.add(layers.Dense(1))\n",
    "rnn.compile(optimizer='adam',loss='mse',metrics=['acc'])"
   ]
  },
  {
   "cell_type": "code",
   "execution_count": 288,
   "metadata": {},
   "outputs": [
    {
     "name": "stdout",
     "output_type": "stream",
     "text": [
      "Model: \"sequential_62\"\n",
      "_________________________________________________________________\n",
      "Layer (type)                 Output Shape              Param #   \n",
      "=================================================================\n",
      "simple_rnn_32 (SimpleRNN)    (None, 32)                1088      \n",
      "_________________________________________________________________\n",
      "dense_46 (Dense)             (None, 1)                 33        \n",
      "=================================================================\n",
      "Total params: 1,121\n",
      "Trainable params: 1,121\n",
      "Non-trainable params: 0\n",
      "_________________________________________________________________\n"
     ]
    }
   ],
   "source": [
    "rnn.summary()"
   ]
  },
  {
   "cell_type": "code",
   "execution_count": 291,
   "metadata": {},
   "outputs": [
    {
     "data": {
      "text/plain": [
       "<tensorflow.python.keras.callbacks.History at 0x7fc0ab90f250>"
      ]
     },
     "execution_count": 291,
     "metadata": {},
     "output_type": "execute_result"
    }
   ],
   "source": [
    "rnn.fit(X_train,y,epochs=30,verbose=0)"
   ]
  },
  {
   "cell_type": "code",
   "execution_count": 292,
   "metadata": {},
   "outputs": [
    {
     "data": {
      "text/plain": [
       "(0.07900805795410441, 0.6655482180077538)"
      ]
     },
     "execution_count": 292,
     "metadata": {},
     "output_type": "execute_result"
    }
   ],
   "source": [
    "y1=rnn.predict(X_test).flatten()\n",
    "y2=y_test\n",
    "\n",
    "np.mean(np.abs(y1-y2)), np.mean(np.abs(y1-y2))*np.std(temp)"
   ]
  },
  {
   "cell_type": "markdown",
   "metadata": {},
   "source": [
    "# Long Short-Term Memory (LSTM) "
   ]
  },
  {
   "cell_type": "code",
   "execution_count": 322,
   "metadata": {},
   "outputs": [],
   "source": [
    "lstm = models.Sequential()\n",
    "lstm.add(layers.LSTM(32, activation='tanh', input_shape = (240,1)))\n",
    "lstm.add(layers.Dense(1))\n",
    "lstm.compile(optimizer='nadam',loss='mse',metrics=['acc'])"
   ]
  },
  {
   "cell_type": "code",
   "execution_count": 323,
   "metadata": {},
   "outputs": [],
   "source": [
    "from sklearn.preprocessing import MinMaxScaler\n",
    "\n",
    "gen=gent(data,past)\n",
    "\n",
    "x=gen[0]\n",
    "scaler=MinMaxScaler(feature_range=(0,1))\n",
    "scaler.fit(x)\n",
    "x=scaler.transform(x)\n",
    "\n",
    "X_train = np.reshape(x, (len(x), x.shape[1], 1))\n",
    "y=gen[1]\n",
    "\n",
    "gen=gent(test,past)\n",
    "x=gen[0]\n",
    "scaler=MinMaxScaler(feature_range=(0,1))\n",
    "scaler.fit(x)\n",
    "x=scaler.transform(x)\n",
    "\n",
    "X_test = np.reshape(x, (len(x), x.shape[1], 1))\n",
    "y_test=gen[1]"
   ]
  },
  {
   "cell_type": "code",
   "execution_count": 324,
   "metadata": {},
   "outputs": [
    {
     "name": "stdout",
     "output_type": "stream",
     "text": [
      "Epoch 1/30\n",
      "7/7 [==============================] - 0s 34ms/step - loss: 0.7964 - acc: 0.0000e+00\n",
      "Epoch 2/30\n",
      "7/7 [==============================] - 0s 32ms/step - loss: 0.7440 - acc: 0.0000e+00\n",
      "Epoch 3/30\n",
      "7/7 [==============================] - 0s 32ms/step - loss: 0.6635 - acc: 0.0000e+00\n",
      "Epoch 4/30\n",
      "7/7 [==============================] - 0s 32ms/step - loss: 0.3875 - acc: 0.0000e+00\n",
      "Epoch 5/30\n",
      "7/7 [==============================] - 0s 32ms/step - loss: 0.2302 - acc: 0.0000e+00\n",
      "Epoch 6/30\n",
      "7/7 [==============================] - 0s 32ms/step - loss: 0.1864 - acc: 0.0000e+00\n",
      "Epoch 7/30\n",
      "7/7 [==============================] - 0s 32ms/step - loss: 0.2007 - acc: 0.0000e+00\n",
      "Epoch 8/30\n",
      "7/7 [==============================] - 0s 32ms/step - loss: 0.1557 - acc: 0.0000e+00\n",
      "Epoch 9/30\n",
      "7/7 [==============================] - 0s 32ms/step - loss: 0.1427 - acc: 0.0000e+00\n",
      "Epoch 10/30\n",
      "7/7 [==============================] - 0s 32ms/step - loss: 0.1562 - acc: 0.0000e+00\n",
      "Epoch 11/30\n",
      "7/7 [==============================] - 0s 32ms/step - loss: 0.1230 - acc: 0.0000e+00\n",
      "Epoch 12/30\n",
      "7/7 [==============================] - 0s 32ms/step - loss: 0.1382 - acc: 0.0000e+00\n",
      "Epoch 13/30\n",
      "7/7 [==============================] - 0s 32ms/step - loss: 0.1262 - acc: 0.0000e+00\n",
      "Epoch 14/30\n",
      "7/7 [==============================] - 0s 35ms/step - loss: 0.1250 - acc: 0.0000e+00\n",
      "Epoch 15/30\n",
      "7/7 [==============================] - 0s 32ms/step - loss: 0.1228 - acc: 0.0000e+00\n",
      "Epoch 16/30\n",
      "7/7 [==============================] - 0s 32ms/step - loss: 0.1090 - acc: 0.0000e+00\n",
      "Epoch 17/30\n",
      "7/7 [==============================] - 0s 32ms/step - loss: 0.1136 - acc: 0.0000e+00\n",
      "Epoch 18/30\n",
      "7/7 [==============================] - 0s 32ms/step - loss: 0.1113 - acc: 0.0000e+00\n",
      "Epoch 19/30\n",
      "7/7 [==============================] - 0s 32ms/step - loss: 0.1141 - acc: 0.0000e+00\n",
      "Epoch 20/30\n",
      "7/7 [==============================] - 0s 32ms/step - loss: 0.0967 - acc: 0.0000e+00\n",
      "Epoch 21/30\n",
      "7/7 [==============================] - 0s 32ms/step - loss: 0.1050 - acc: 0.0000e+00\n",
      "Epoch 22/30\n",
      "7/7 [==============================] - 0s 32ms/step - loss: 0.0956 - acc: 0.0000e+00\n",
      "Epoch 23/30\n",
      "7/7 [==============================] - 0s 32ms/step - loss: 0.0994 - acc: 0.0000e+00\n",
      "Epoch 24/30\n",
      "7/7 [==============================] - 0s 32ms/step - loss: 0.0979 - acc: 0.0000e+00\n",
      "Epoch 25/30\n",
      "7/7 [==============================] - 0s 32ms/step - loss: 0.0996 - acc: 0.0000e+00\n",
      "Epoch 26/30\n",
      "7/7 [==============================] - 0s 32ms/step - loss: 0.0914 - acc: 0.0000e+00\n",
      "Epoch 27/30\n",
      "7/7 [==============================] - 0s 33ms/step - loss: 0.0916 - acc: 0.0000e+00\n",
      "Epoch 28/30\n",
      "7/7 [==============================] - 0s 32ms/step - loss: 0.0883 - acc: 0.0000e+00\n",
      "Epoch 29/30\n",
      "7/7 [==============================] - 0s 32ms/step - loss: 0.0944 - acc: 0.0000e+00\n",
      "Epoch 30/30\n",
      "7/7 [==============================] - 0s 32ms/step - loss: 0.0871 - acc: 0.0000e+00\n"
     ]
    },
    {
     "data": {
      "text/plain": [
       "<tensorflow.python.keras.callbacks.History at 0x7fc08ebf1150>"
      ]
     },
     "execution_count": 324,
     "metadata": {},
     "output_type": "execute_result"
    }
   ],
   "source": [
    "lstm.fit(X_train,y,epochs=30)"
   ]
  },
  {
   "cell_type": "code",
   "execution_count": 325,
   "metadata": {},
   "outputs": [
    {
     "data": {
      "text/plain": [
       "(0.5426163015911472, 4.570892158819163)"
      ]
     },
     "execution_count": 325,
     "metadata": {},
     "output_type": "execute_result"
    }
   ],
   "source": [
    "y1=lstm.predict(X_test).flatten()\n",
    "y2=y_test\n",
    "\n",
    "np.mean(np.abs(y1-y2)), np.mean(np.abs(y1-y2))*np.std(temp)"
   ]
  },
  {
   "cell_type": "code",
   "execution_count": null,
   "metadata": {},
   "outputs": [],
   "source": []
  },
  {
   "cell_type": "code",
   "execution_count": null,
   "metadata": {},
   "outputs": [],
   "source": []
  }
 ],
 "metadata": {
  "kernelspec": {
   "display_name": "Python 3",
   "language": "python",
   "name": "python3"
  },
  "language_info": {
   "codemirror_mode": {
    "name": "ipython",
    "version": 3
   },
   "file_extension": ".py",
   "mimetype": "text/x-python",
   "name": "python",
   "nbconvert_exporter": "python",
   "pygments_lexer": "ipython3",
   "version": "3.7.4"
  }
 },
 "nbformat": 4,
 "nbformat_minor": 2
}
