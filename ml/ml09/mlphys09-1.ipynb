{
 "cells": [
  {
   "cell_type": "markdown",
   "metadata": {},
   "source": [
    "## Text Classification"
   ]
  },
  {
   "cell_type": "code",
   "execution_count": 91,
   "metadata": {},
   "outputs": [],
   "source": [
    "import numpy as np\n",
    "from tensorflow import keras\n",
    "from keras import models \n",
    "from keras import layers\n",
    "import matplotlib.pyplot as plt"
   ]
  },
  {
   "cell_type": "code",
   "execution_count": 92,
   "metadata": {},
   "outputs": [],
   "source": [
    "from keras.datasets import imdb\n",
    "# https://www.imdb.com/"
   ]
  },
  {
   "cell_type": "code",
   "execution_count": 109,
   "metadata": {},
   "outputs": [],
   "source": [
    "(X_train, y_train), (X_test, y_test) = imdb.load_data(num_words=10000)"
   ]
  },
  {
   "cell_type": "code",
   "execution_count": 110,
   "metadata": {},
   "outputs": [
    {
     "name": "stdout",
     "output_type": "stream",
     "text": [
      "[1, 14, 22, 16, 43, 530, 973, 1622, 1385, 65, 458, 4468, 66, 3941, 4, 173, 36, 256, 5, 25, 100, 43, 838, 112, 50, 670, 2, 9, 35, 480, 284, 5, 150, 4, 172, 112, 167, 2, 336, 385, 39, 4, 172, 4536, 1111, 17, 546, 38, 13, 447, 4, 192, 50, 16, 6, 147, 2025, 19, 14, 22, 4, 1920, 4613, 469, 4, 22, 71, 87, 12, 16, 43, 530, 38, 76, 15, 13, 1247, 4, 22, 17, 515, 17, 12, 16, 626, 18, 2, 5, 62, 386, 12, 8, 316, 8, 106, 5, 4, 2223, 5244, 16, 480, 66, 3785, 33, 4, 130, 12, 16, 38, 619, 5, 25, 124, 51, 36, 135, 48, 25, 1415, 33, 6, 22, 12, 215, 28, 77, 52, 5, 14, 407, 16, 82, 2, 8, 4, 107, 117, 5952, 15, 256, 4, 2, 7, 3766, 5, 723, 36, 71, 43, 530, 476, 26, 400, 317, 46, 7, 4, 2, 1029, 13, 104, 88, 4, 381, 15, 297, 98, 32, 2071, 56, 26, 141, 6, 194, 7486, 18, 4, 226, 22, 21, 134, 476, 26, 480, 5, 144, 30, 5535, 18, 51, 36, 28, 224, 92, 25, 104, 4, 226, 65, 16, 38, 1334, 88, 12, 16, 283, 5, 16, 4472, 113, 103, 32, 15, 16, 5345, 19, 178, 32]\n"
     ]
    }
   ],
   "source": [
    "print(X_train[0])"
   ]
  },
  {
   "cell_type": "code",
   "execution_count": 111,
   "metadata": {},
   "outputs": [
    {
     "data": {
      "text/plain": [
       "1"
      ]
     },
     "execution_count": 111,
     "metadata": {},
     "output_type": "execute_result"
    }
   ],
   "source": [
    "y_train[0]"
   ]
  },
  {
   "cell_type": "code",
   "execution_count": 112,
   "metadata": {},
   "outputs": [],
   "source": [
    "y_train = np.array(y_train)\n",
    "y_test = np.array(y_test)"
   ]
  },
  {
   "cell_type": "code",
   "execution_count": 113,
   "metadata": {},
   "outputs": [
    {
     "name": "stdout",
     "output_type": "stream",
     "text": [
      "# this film was just brilliant casting location scenery story direction everyone's really suited the part they played and you could just imagine being there robert # is an amazing actor and now the same being director # father came from the same scottish island as myself so i loved the fact there was a real connection with this film the witty remarks throughout the film were great it was just brilliant so much that i bought the film as soon as it was released for # and would recommend it to everyone to watch and the fly fishing was amazing really cried at the end it was so sad and you know what they say if you cry at a film it must have been good and this definitely was also # to the two little boy's that played the # of norman and paul they were just brilliant children are often left out of the # list i think because the stars that play them all grown up are such a big profile for the whole film but these children are amazing and should be praised for what they have done don't you think the whole story was so lovely because it was true and was someone's life after all that was shared with us all\n"
     ]
    }
   ],
   "source": [
    "index = imdb.get_word_index()\n",
    "reverse_index = dict([(value, key) for (key, value) in index.items()]) \n",
    "decoded0 = \" \".join( [reverse_index.get(i - 3, \"#\") for i in X_train[0]] )\n",
    "decoded1 = \" \".join( [reverse_index.get(i - 3, \"#\") for i in X_train[1]] )\n",
    "print(decoded0) "
   ]
  },
  {
   "cell_type": "code",
   "execution_count": 114,
   "metadata": {},
   "outputs": [
    {
     "name": "stdout",
     "output_type": "stream",
     "text": [
      "# big hair big boobs bad music and a giant safety pin these are the words to best describe this terrible movie i love cheesy horror movies and i've seen hundreds but this had got to be on of the worst ever made the plot is paper thin and ridiculous the acting is an abomination the script is completely laughable the best is the end showdown with the cop and how he worked out who the killer is it's just so damn terribly written the clothes are sickening and funny in equal # the hair is big lots of boobs # men wear those cut # shirts that show off their # sickening that men actually wore them and the music is just # trash that plays over and over again in almost every scene there is trashy music boobs and # taking away bodies and the gym still doesn't close for # all joking aside this is a truly bad film whose only charm is to look back on the disaster that was the 80's and have a good old laugh at how bad everything was back then\n"
     ]
    }
   ],
   "source": [
    "print(decoded1)"
   ]
  },
  {
   "cell_type": "code",
   "execution_count": 115,
   "metadata": {},
   "outputs": [],
   "source": [
    "# text to vector\n",
    "def vect(seq, dim=10000):\n",
    "    x=np.zeros((len(seq),dim))\n",
    "    for n, i in enumerate(seq):\n",
    "        x[n, i] = 1\n",
    "    return x"
   ]
  },
  {
   "cell_type": "code",
   "execution_count": 116,
   "metadata": {},
   "outputs": [],
   "source": [
    "X_train=vect(X_train)\n",
    "X_test=vect(X_test)"
   ]
  },
  {
   "cell_type": "code",
   "execution_count": 117,
   "metadata": {},
   "outputs": [],
   "source": [
    "net = models.Sequential()\n",
    "net.add(layers.Dense(256, activation='relu', input_shape=(10000,)))\n",
    "net.add(layers.Dense(16, activation='relu'))\n",
    "net.add(layers.Dense(1, activation='sigmoid'))\n",
    "\n",
    "net.compile(optimizer='nadam', loss='binary_crossentropy', metrics = ['acc'])"
   ]
  },
  {
   "cell_type": "code",
   "execution_count": 118,
   "metadata": {},
   "outputs": [],
   "source": [
    "X_val = X_train[:10000]\n",
    "partial_X_train = X_train[10000:]\n",
    "\n",
    "y_val = y_train[:10000]\n",
    "partial_y_train = y_train[10000:]"
   ]
  },
  {
   "cell_type": "code",
   "execution_count": 119,
   "metadata": {},
   "outputs": [
    {
     "name": "stdout",
     "output_type": "stream",
     "text": [
      "Epoch 1/20\n",
      "118/118 [==============================] - 3s 26ms/step - loss: 0.3619 - acc: 0.8422 - val_loss: 0.2851 - val_acc: 0.8841\n",
      "Epoch 2/20\n",
      "118/118 [==============================] - 3s 23ms/step - loss: 0.1451 - acc: 0.9484 - val_loss: 0.3333 - val_acc: 0.8693\n",
      "Epoch 3/20\n",
      "118/118 [==============================] - 3s 23ms/step - loss: 0.0578 - acc: 0.9816 - val_loss: 0.3836 - val_acc: 0.8765\n",
      "Epoch 4/20\n",
      "118/118 [==============================] - 3s 23ms/step - loss: 0.0145 - acc: 0.9975 - val_loss: 0.5002 - val_acc: 0.8754\n",
      "Epoch 5/20\n",
      "118/118 [==============================] - 3s 24ms/step - loss: 0.0027 - acc: 0.9998 - val_loss: 0.5772 - val_acc: 0.8765\n",
      "Epoch 6/20\n",
      "118/118 [==============================] - 3s 23ms/step - loss: 7.5773e-04 - acc: 1.0000 - val_loss: 0.6338 - val_acc: 0.8769\n",
      "Epoch 7/20\n",
      "118/118 [==============================] - 3s 23ms/step - loss: 4.0541e-04 - acc: 1.0000 - val_loss: 0.6733 - val_acc: 0.8765\n",
      "Epoch 8/20\n",
      "118/118 [==============================] - 3s 24ms/step - loss: 2.5817e-04 - acc: 1.0000 - val_loss: 0.7040 - val_acc: 0.8759\n",
      "Epoch 9/20\n",
      "118/118 [==============================] - 3s 23ms/step - loss: 1.7921e-04 - acc: 1.0000 - val_loss: 0.7310 - val_acc: 0.8762\n",
      "Epoch 10/20\n",
      "118/118 [==============================] - 3s 23ms/step - loss: 1.3126e-04 - acc: 1.0000 - val_loss: 0.7541 - val_acc: 0.8765\n",
      "Epoch 11/20\n",
      "118/118 [==============================] - 3s 23ms/step - loss: 9.9991e-05 - acc: 1.0000 - val_loss: 0.7749 - val_acc: 0.8760\n",
      "Epoch 12/20\n",
      "118/118 [==============================] - 3s 23ms/step - loss: 7.8533e-05 - acc: 1.0000 - val_loss: 0.7942 - val_acc: 0.8762\n",
      "Epoch 13/20\n",
      "118/118 [==============================] - 3s 23ms/step - loss: 6.3100e-05 - acc: 1.0000 - val_loss: 0.8116 - val_acc: 0.8761\n",
      "Epoch 14/20\n",
      "118/118 [==============================] - 3s 23ms/step - loss: 5.1654e-05 - acc: 1.0000 - val_loss: 0.8287 - val_acc: 0.8768\n",
      "Epoch 15/20\n",
      "118/118 [==============================] - 3s 24ms/step - loss: 4.2899e-05 - acc: 1.0000 - val_loss: 0.8442 - val_acc: 0.8766\n",
      "Epoch 16/20\n",
      "118/118 [==============================] - 3s 24ms/step - loss: 3.6081e-05 - acc: 1.0000 - val_loss: 0.8583 - val_acc: 0.8764\n",
      "Epoch 17/20\n",
      "118/118 [==============================] - 3s 23ms/step - loss: 3.0678e-05 - acc: 1.0000 - val_loss: 0.8717 - val_acc: 0.8760\n",
      "Epoch 18/20\n",
      "118/118 [==============================] - 3s 23ms/step - loss: 2.6326e-05 - acc: 1.0000 - val_loss: 0.8847 - val_acc: 0.8759\n",
      "Epoch 19/20\n",
      "118/118 [==============================] - 3s 24ms/step - loss: 2.2781e-05 - acc: 1.0000 - val_loss: 0.8973 - val_acc: 0.8764\n",
      "Epoch 20/20\n",
      "118/118 [==============================] - 3s 23ms/step - loss: 1.9797e-05 - acc: 1.0000 - val_loss: 0.9093 - val_acc: 0.8765\n"
     ]
    }
   ],
   "source": [
    "val = net.fit(partial_X_train, partial_y_train, epochs=20, batch_size=128, validation_data=(X_val, y_val))"
   ]
  },
  {
   "cell_type": "code",
   "execution_count": 123,
   "metadata": {},
   "outputs": [
    {
     "data": {
      "text/plain": [
       "[<matplotlib.lines.Line2D at 0x7f94f44edd50>]"
      ]
     },
     "execution_count": 123,
     "metadata": {},
     "output_type": "execute_result"
    },
    {
     "data": {
      "image/png": "[encoded data removed]",
      "text/plain": [
       "<Figure size 432x288 with 1 Axes>"
      ]
     },
     "metadata": {
      "needs_background": "light"
     },
     "output_type": "display_data"
    }
   ],
   "source": [
    "val_dict = val.history\n",
    "acc = val_dict['acc']\n",
    "val_acc = val_dict['val_acc']\n",
    "x = np.arange(0,len(acc))\n",
    "\n",
    "plt.plot(x,acc,'bo',label='Accuracy')\n",
    "plt.plot(x,val_acc,'ro',label='A_v')"
   ]
  },
  {
   "cell_type": "code",
   "execution_count": null,
   "metadata": {},
   "outputs": [],
   "source": []
  }
 ],
 "metadata": {
  "kernelspec": {
   "display_name": "Python 3",
   "language": "python",
   "name": "python3"
  },
  "language_info": {
   "codemirror_mode": {
    "name": "ipython",
    "version": 3
   },
   "file_extension": ".py",
   "mimetype": "text/x-python",
   "name": "python",
   "nbconvert_exporter": "python",
   "pygments_lexer": "ipython3",
   "version": "3.7.4"
  }
 },
 "nbformat": 4,
 "nbformat_minor": 2
}
