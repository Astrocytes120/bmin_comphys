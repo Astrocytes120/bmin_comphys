{
 "cells": [
  {
   "cell_type": "markdown",
   "metadata": {},
   "source": [
    "# Neural Networks"
   ]
  },
  {
   "cell_type": "code",
   "execution_count": 17,
   "metadata": {},
   "outputs": [],
   "source": [
    "import numpy as np\n",
    "import matplotlib.pyplot as plt"
   ]
  },
  {
   "cell_type": "markdown",
   "metadata": {},
   "source": [
    "## My first neural network "
   ]
  },
  {
   "cell_type": "code",
   "execution_count": 18,
   "metadata": {},
   "outputs": [],
   "source": [
    "def nn1(x, weight):\n",
    "    return weight*x"
   ]
  },
  {
   "cell_type": "code",
   "execution_count": 19,
   "metadata": {},
   "outputs": [
    {
     "data": {
      "text/plain": [
       "0.4"
      ]
     },
     "execution_count": 19,
     "metadata": {},
     "output_type": "execute_result"
    }
   ],
   "source": [
    "x = 4\n",
    "w = 0.1\n",
    "nn1(x,w)"
   ]
  },
  {
   "cell_type": "markdown",
   "metadata": {},
   "source": [
    "## My second neural network"
   ]
  },
  {
   "cell_type": "code",
   "execution_count": 20,
   "metadata": {},
   "outputs": [],
   "source": [
    "def nn2(x,weight):\n",
    "    p = np.dot(x,weight)\n",
    "    return p"
   ]
  },
  {
   "cell_type": "code",
   "execution_count": 21,
   "metadata": {},
   "outputs": [
    {
     "data": {
      "text/plain": [
       "1.6"
      ]
     },
     "execution_count": 21,
     "metadata": {},
     "output_type": "execute_result"
    }
   ],
   "source": [
    "x = np.array([1, 3])\n",
    "w = np.array([0.1, 0.5])\n",
    "nn2(x,w)"
   ]
  },
  {
   "cell_type": "markdown",
   "metadata": {},
   "source": [
    "### Weight Learning\n",
    "Learning: 오차가 0이 되도록 weight를 조정하는 과정"
   ]
  },
  {
   "cell_type": "code",
   "execution_count": 22,
   "metadata": {},
   "outputs": [
    {
     "name": "stdout",
     "output_type": "stream",
     "text": [
      "Error:0.9025  Prediction:0.25\n",
      "Error:0.20249999999999957  Prediction:0.7500000000000004\n",
      "Error:1.262177448353619e-29  Prediction:1.1999999999999964\n",
      "Error:1.262177448353619e-29  Prediction:1.1999999999999964\n",
      "Error:1.262177448353619e-29  Prediction:1.1999999999999964\n",
      "Error:1.262177448353619e-29  Prediction:1.1999999999999964\n",
      "Error:1.262177448353619e-29  Prediction:1.1999999999999964\n",
      "Error:1.262177448353619e-29  Prediction:1.1999999999999964\n",
      "Error:1.262177448353619e-29  Prediction:1.1999999999999964\n",
      "Error:1.262177448353619e-29  Prediction:1.1999999999999964\n"
     ]
    }
   ],
   "source": [
    "w = 0.5\n",
    "x = 0.5\n",
    "goal = 1.2\n",
    "dw=0.01\n",
    "\n",
    "for i in range(1000):\n",
    "    pred = w*x\n",
    "    error = (pred - goal)**2\n",
    "    if(i%100==0):\n",
    "        print(\"Error:\" + str(error)+ \"  Prediction:\" + str(pred))\n",
    "    \n",
    "    up=x*(w+dw)\n",
    "    down=x*(w-dw)\n",
    "    if((up-goal)**2 < (down-goal)**2):\n",
    "        w=w+dw\n",
    "    else:\n",
    "        w=w-dw        "
   ]
  },
  {
   "cell_type": "markdown",
   "metadata": {},
   "source": [
    "## Activation Functions\n",
    "For given inputs,\n",
    "$$ z = \\sum_i w_i x_i  + b$$\n",
    "#### Perceptron\n",
    "if $z \\ge0, f(z)=1$,  \n",
    "if $z<0, f(z)=0$.\n",
    "#### Sigmoid Neuron (Logistic) \n",
    "$$f(z) = \\frac{1}{1+e^{-z}}=  \\frac{1}{1+e^{- (\\sum_i w_i x_i  + b)}}.$$\n",
    "#### ReLu (Rectified Linear Unit)\n",
    "$$f(z)= \\max(0,z).$$"
   ]
  },
  {
   "cell_type": "code",
   "execution_count": null,
   "metadata": {},
   "outputs": [],
   "source": []
  }
 ],
 "metadata": {
  "kernelspec": {
   "display_name": "Python 3",
   "language": "python",
   "name": "python3"
  },
  "language_info": {
   "codemirror_mode": {
    "name": "ipython",
    "version": 3
   },
   "file_extension": ".py",
   "mimetype": "text/x-python",
   "name": "python",
   "nbconvert_exporter": "python",
   "pygments_lexer": "ipython3",
   "version": "3.7.4"
  }
 },
 "nbformat": 4,
 "nbformat_minor": 2
}
